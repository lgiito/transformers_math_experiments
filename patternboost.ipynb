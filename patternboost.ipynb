{
 "cells": [
  {
   "cell_type": "markdown",
   "metadata": {},
   "source": [
    "Let's replicate one of the experiments in the PatternBoost paper REF. In particular, we will describe a machinery for generating maximal triangle-free graphs. "
   ]
  },
  {
   "cell_type": "markdown",
   "metadata": {},
   "source": [
    "In a nutshell, PatternBoost is a framework for generating less trivial examples from more trivial in arbitrary mathematical domains.  The only prerequisities for setting it up are:\n",
    "\n",
    "0. Kinda unspoken prerequsite is that you are able to encode you mathematical structures of interest into computer.\n",
    "\n",
    "1. The quanitifable notion of the \"non-triviality\", here it will take a form of a reward function $r: X \\to \\mathbb R_+$, with $X$ being the set of objects of interest, which includes our original set of examples. The bigger the value of $r(x)$, the more non-trivial $x$ is.\n",
    "\n",
    "2. The \"obvious\" way how, given $x$ construct $x'$ such that $r(x) \\leq r(x')$. Usually it takes form of a greedy (not necessary deterministic) algorithm $A : X \\to X$ that tries to modify $x$ to increase its reward"
   ]
  },
  {
   "cell_type": "markdown",
   "metadata": {},
   "source": [
    "In practice the algorithm $G$ alone is not enough to come up with very non-trivial examples (examples with high reward), since in compilcated situations it performs a \"local\" optimization, rather than a \"global\" one. To compliment the local search, authors of REF suggest to use an additional generation step, which in our case will be performed by a decoder LLM. Let's sketch their approach. Fix the number of iterations $n$ and proceed as follows:\n",
    "\n",
    "Step 0. Obtain an initial dataset of examples $X_0$ (of size $k$), by appling $A$ to some set of \"trivial\" examples.\n",
    "\n",
    "Step 1. Compute $r(x)$ for all $x \\in X_0$ and take the top 25% of examples in $X_0$ in terms of $r$ to obtain our first training dataset $X_0^{\\mathrm{top}}$\n",
    "\n",
    "Step 2. Train an autoregressive model $M$ on $X_0^{\\mathrm{top}}$, the model will hopefully learn some of the statistical patterns of the top examples.\n",
    "\n",
    "Step 3. Generate $k$ new examples from $M$ to obtain the new set of examples $X_1$\n",
    "\n",
    "Step 4. Repeat the process from Step 0, substituting $X_0$ with $X_1$ and so on.\n",
    "\n",
    "Step 5. Inspect $X_n$ for interesting examples with high rewards.\n",
    "\n",
    "To summarize, PatternBoost can be thought of as a certain global optimization algorithm for functions $r$ defined on sequential data."
   ]
  },
  {
   "cell_type": "markdown",
   "metadata": {},
   "source": [
    "The application that we will explore in this notebook is a search of maximal triangle-free graphs. Fix a number $N$ and consider all (simple) graphs on $N$ vertices that do not have triangles, i.e. cycles of length $3$. How many edges such graphs can have? How these graphs with maximal possible number of edges look like? This problem have all three prerequisistives to apply PatternBoost:\n",
    "\n",
    "0. Computer representation: After ordering the vertices every graph can be encoded by its adjacency matrix. To make this representation sequential we unroll the upper-diagonal part of the matrix row by row and obtain a string of length $N(N-2)/2$ of $0$s and $1$s. \n",
    "\n",
    "\n",
    "1. Reward function: for a graph $g$ define $r(g)$ as $e(g) - 2t(g)$, where $e(g)$ is a number of edges in $g$ and $t(g)$ is a number of triangles in $g$. \n",
    "\n",
    "\n",
    "\n",
    "2. Local optimisation: given an arbitrary graph $g$ we can obtain a new triangle-free graph $A(g)$ by first removing one edge from each triangle in $g$ and then randomly adding edges without creating triangles (if possible) \n",
    "\n",
    "Exercise: $r(g) \\leq r(A(g))$"
   ]
  },
  {
   "cell_type": "markdown",
   "metadata": {},
   "source": [
    "Remark. This toy problem have a known solution. It is not difficult to convince ourselves that bipartite graphs do not have triangles and indeed the maximal number of edges will be achived on a complete bipartite graph which have $\\lceil N/2 \\rceil^2$ edges. At the same time the complete answer for a similar question about maximal square-free graphs is unknown. Authors explore this question in Section REF of the paper. "
   ]
  },
  {
   "cell_type": "markdown",
   "metadata": {},
   "source": [
    "Let's start by defining the our graph representation, reward function and a local search algorithm $A$. Our implementation is adpated from the Julia code from author's repository REF."
   ]
  },
  {
   "cell_type": "code",
   "execution_count": 3,
   "metadata": {},
   "outputs": [],
   "source": [
    "# For now just import the basic things\n",
    "import numpy as np\n",
    "import random"
   ]
  },
  {
   "cell_type": "code",
   "execution_count": 4,
   "metadata": {},
   "outputs": [],
   "source": [
    "#We will be working on the level of adjacency matrices and convert them to strings whenever necessary\n",
    "\n",
    "def adjmat_to_string(adjmat):\n",
    "    \"\"\"\n",
    "    Converts the upper-triangular entries of the adjacency matrix to a string.\n",
    "    (Edges are read row by row, skipping the diagonal and lower-triangular part.)\n",
    "    \"\"\"\n",
    "    n = adjmat.shape[0]\n",
    "    entries = []\n",
    "    for i in range(n - 1):\n",
    "        for j in range(i + 1, n):\n",
    "            entries.append(str(adjmat[i, j]))\n",
    "    return \"\".join(entries)\n",
    "\n",
    "def string_to_adjmat(obj, N):\n",
    "    # Create an empty adjacency matrix\n",
    "    adjmat = np.zeros((N, N), dtype=int)\n",
    "    \n",
    "    # Fill the upper triangular matrix from the input string `obj`\n",
    "    index = 0\n",
    "    for i in range(N - 1):\n",
    "        for j in range(i + 1, N):\n",
    "            # Convert the current character to an integer (0 or 1)\n",
    "            value = int(obj[index])\n",
    "            adjmat[i, j] = value\n",
    "            adjmat[j, i] = value  # Ensure the matrix is symmetric\n",
    "            index += 1\n",
    "    return adjmat"
   ]
  },
  {
   "cell_type": "code",
   "execution_count": 5,
   "metadata": {},
   "outputs": [],
   "source": [
    "def find_all_triangles(adjmat):\n",
    "    \"\"\"\n",
    "    Auxiliary function for finding all triangles in the undirected graph represented by adjmat.\n",
    "    Each triangle is returned as a tuple (i, j, k) with i < j < k.\n",
    "    \"\"\"\n",
    "    n = adjmat.shape[0]\n",
    "    triangles = []\n",
    "    for i in range(n - 2):\n",
    "        for j in range(i + 1, n - 1):\n",
    "            for k in range(j + 1, n):\n",
    "                if adjmat[i, j] == 1 and adjmat[j, k] == 1 and adjmat[i, k] == 1:\n",
    "                    triangles.append((i, j, k))\n",
    "    return triangles\n",
    "\n",
    "# Here is our reward function\n",
    "\n",
    "def r(obj, N):\n",
    "    \"\"\"\n",
    "    Calculates the reward of a construction.\n",
    "\n",
    "    Input:\n",
    "      - obj: A string representing the upper-triangle of an adjacency matrix.\n",
    "             The length should be N*(N-1)//2.\n",
    "      - N: The number of nodes in the graph.\n",
    "    Returns:\n",
    "      Number of edges minus twice the number of triangles.\n",
    "    \"\"\"\n",
    "    edges = obj.count('1')\n",
    "    triangles = len(find_all_triangles(string_to_adjmat(obj, N)))\n",
    "    return edges - 2 * triangles"
   ]
  },
  {
   "cell_type": "markdown",
   "metadata": {},
   "source": [
    "Remark. The implementation of the reward function in authors repository differs from one they use in the paper. In repository they use just $r(g) = e(g)$. Here we follow the definition from the paper"
   ]
  },
  {
   "cell_type": "code",
   "execution_count": 6,
   "metadata": {},
   "outputs": [],
   "source": [
    "# Finally we define our local search algorithm A\n",
    "\n",
    "def A(obj, N):\n",
    "    \"\"\"\n",
    "    Main greedy search algorithm.\n",
    "    Input:\n",
    "      - obj: A string representing the upper-triangle of an adjacency matrix.\n",
    "             The length should be N*(N-1)//2.\n",
    "      - N: The number of nodes in the graph.\n",
    "    \n",
    "    The algorithm:\n",
    "      1. Builds a symmetric N x N adjacency matrix from obj.\n",
    "      2. Greedily removes edges that participate in triangles until no triangle exists.\n",
    "      3. Greedily adds random edges that do not create any triangle until no such edge remains.\n",
    "    Returns:\n",
    "      A string representation of the final upper-triangular adjacency matrix.\n",
    "    \"\"\"\n",
    "    # Create an empty adjacency matrix\n",
    "    adjmat = np.zeros((N, N), dtype=int)\n",
    "    \n",
    "    # Fill the upper triangular matrix from the input string `obj`\n",
    "    index = 0\n",
    "    for i in range(N - 1):\n",
    "        for j in range(i + 1, N):\n",
    "            # Convert the current character to an integer (0 or 1)\n",
    "            value = int(obj[index])\n",
    "            adjmat[i, j] = value\n",
    "            adjmat[j, i] = value  # Ensure the matrix is symmetric\n",
    "            index += 1\n",
    "\n",
    "    # Remove triangles by deleting the most frequent edge in any triangle until no triangles remain.\n",
    "    triangles = find_all_triangles(adjmat)\n",
    "    while triangles:\n",
    "        edge_count = {}\n",
    "        for (i, j, k) in triangles:\n",
    "            for edge in [(i, j), (j, k), (i, k)]:\n",
    "                edge_count[edge] = edge_count.get(edge, 0) + 1\n",
    "\n",
    "        # Find the edge that appears in the most triangles\n",
    "        most_frequent_edge = max(edge_count, key=edge_count.get)\n",
    "        i_edge, j_edge = most_frequent_edge\n",
    "\n",
    "        # Remove this edge from the graph\n",
    "        adjmat[i_edge, j_edge] = 0\n",
    "        adjmat[j_edge, i_edge] = 0\n",
    "\n",
    "        # Update triangles by removing those that contain the removed edge\n",
    "        triangles = [\n",
    "            t for t in triangles \n",
    "            if most_frequent_edge not in [(t[0], t[1]), (t[1], t[2]), (t[0], t[2])]\n",
    "        ]\n",
    "\n",
    "    # Now add allowed edges (those that do not create a triangle) one by one at random.\n",
    "    allowed_edges = []\n",
    "    # Compute the square of the adjacency matrix to count two-step connections\n",
    "    adjmat2 = np.dot(adjmat, adjmat)\n",
    "    for i in range(N - 1):\n",
    "        for j in range(i + 1, N):\n",
    "            if adjmat[i, j] == 0 and adjmat2[i, j] == 0:\n",
    "                allowed_edges.append((i, j))\n",
    "\n",
    "    while allowed_edges:\n",
    "        # Randomly select an edge to add\n",
    "        edge = random.choice(allowed_edges)\n",
    "        i_edge, j_edge = edge\n",
    "        adjmat[i_edge, j_edge] = 1\n",
    "        adjmat[j_edge, i_edge] = 1\n",
    "\n",
    "        # Update allowed_edges by removing those that would form a triangle with the newly added edge\n",
    "        new_allowed_edges = []\n",
    "        for (a, b) in allowed_edges:\n",
    "            # Skip the newly added edge if it's still in the list\n",
    "            if (a, b) == (i_edge, j_edge):\n",
    "                continue\n",
    "\n",
    "            # Check if adding (a,b) now would create a triangle with the new edge (i_edge, j_edge)\n",
    "            if (a == i_edge and adjmat[b, j_edge] == 1) or \\\n",
    "               (a == j_edge and adjmat[b, i_edge] == 1) or \\\n",
    "               (b == i_edge and adjmat[a, j_edge] == 1) or \\\n",
    "               (b == j_edge and adjmat[a, i_edge] == 1):\n",
    "                continue\n",
    "\n",
    "            new_allowed_edges.append((a, b))\n",
    "        allowed_edges = new_allowed_edges\n",
    "\n",
    "    return adjmat_to_string(adjmat)"
   ]
  },
  {
   "cell_type": "code",
   "execution_count": 7,
   "metadata": {},
   "outputs": [],
   "source": [
    "# IT also will be usefull to have a starting point: a graph on N vertices with no edges\n",
    "\n",
    "def empty_starting_point(N):\n",
    "    \"\"\"\n",
    "    Returns an empty starting point as a string.\n",
    "    The string consists of \"0\" repeated for every possible upper-triangle entry.\n",
    "    \"\"\"\n",
    "    return \"0\" * (N * (N - 1) // 2)"
   ]
  },
  {
   "cell_type": "markdown",
   "metadata": {},
   "source": [
    "Now lets follow the steps to recreate $X_i$ described above. We will construct $X_0$ and $X_1$ separately and do the rest in a loop."
   ]
  },
  {
   "cell_type": "markdown",
   "metadata": {},
   "source": [
    "Organizational remarks: we will try to utilize HF's $\\texttt{transformers}$ library abstractions as much as possible to reduce the training boilerplate code."
   ]
  },
  {
   "cell_type": "code",
   "execution_count": 8,
   "metadata": {},
   "outputs": [],
   "source": [
    "# for setting the environment variables and paths\n",
    "import os\n",
    "\n",
    "# for parallel computation of A and r\n",
    "from multiprocessing import Pool\n",
    "\n",
    "# for working with tensors and sending them around\n",
    "import torch\n",
    "\n",
    "# HF stuff for tokenization\n",
    "from tokenizers import Tokenizer\n",
    "from tokenizers.models import BPE\n",
    "from tokenizers.trainers import BpeTrainer\n",
    "from tokenizers.pre_tokenizers import Whitespace\n",
    "\n",
    "# HF stuff for storing the datasets X_i\n",
    "from datasets import Dataset\n",
    "\n",
    "\n",
    "# HF stuff for training and generating\n",
    "from transformers import (\n",
    "    GPT2Config, \n",
    "    GPT2LMHeadModel,\n",
    "    Trainer, \n",
    "    TrainingArguments,\n",
    "    DataCollatorForLanguageModeling,\n",
    "    PreTrainedTokenizerFast,\n",
    "    pipeline\n",
    ")\n",
    "\n",
    "# Pretty progress bars and histogram plotting\n",
    "from tqdm.auto import tqdm\n",
    "import matplotlib.pyplot as plt"
   ]
  },
  {
   "cell_type": "code",
   "execution_count": 11,
   "metadata": {},
   "outputs": [],
   "source": [
    "# Let's set up our enviroment variables, paths, devices and seeds\n",
    "\n",
    "os.environ['TOKENIZERS_PARALLELISM'] = 'false' # to avoid warnings while using multiprocessing\n",
    "\n",
    "os.environ[\"CUDA_VISIBLE_DEVICES\"] = \"3\" # choose your GPU index if you have a multi-gpu setup\n",
    "\n",
    "device = torch.device(\"cuda\" if torch.cuda.is_available() else \"cpu\") # normally Trainer choose the device by itself, but for generation we will need it to move the batches around.\n",
    "\n",
    "data_path = \"PB_data/\" # path to store the data\n",
    "os.makedirs(data_path, exist_ok=True)\n",
    "\n",
    "SEED = 42 # for reproducibility\n",
    "torch.manual_seed(SEED)\n",
    "torch.cuda.manual_seed_all(SEED)\n",
    "np.random.seed(SEED)\n",
    "random.seed(SEED)"
   ]
  },
  {
   "cell_type": "code",
   "execution_count": 12,
   "metadata": {},
   "outputs": [],
   "source": [
    "# For the rest of the notebook we fix our number of vertices N at 20\n",
    "N = 20"
   ]
  },
  {
   "cell_type": "markdown",
   "metadata": {},
   "source": [
    "# Step 0: generate the initial dataset $X_0$"
   ]
  },
  {
   "cell_type": "code",
   "execution_count": 14,
   "metadata": {},
   "outputs": [
    {
     "name": "stdout",
     "output_type": "stream",
     "text": [
      "Generating initial dataset with 40000 samples...\n"
     ]
    },
    {
     "data": {
      "application/vnd.jupyter.widget-view+json": {
       "model_id": "51645b689ada44b3a3644f1f8d0cad76",
       "version_major": 2,
       "version_minor": 0
      },
      "text/plain": [
       "  0%|          | 0/40000 [00:00<?, ?it/s]"
      ]
     },
     "metadata": {},
     "output_type": "display_data"
    },
    {
     "data": {
      "application/vnd.jupyter.widget-view+json": {
       "model_id": "e262c740bf9a4ddea133051f48fcf6c8",
       "version_major": 2,
       "version_minor": 0
      },
      "text/plain": [
       "Saving the dataset (0/1 shards):   0%|          | 0/40000 [00:00<?, ? examples/s]"
      ]
     },
     "metadata": {},
     "output_type": "display_data"
    }
   ],
   "source": [
    "# Starting with a trivial graph, we will randomly add edges to it until no more edges can be added without creating a triangle.\n",
    "\n",
    "def _generate_sample(_):\n",
    "    empty = empty_starting_point(N)\n",
    "    graph = A(empty, N)\n",
    "    reward = r(graph, N)\n",
    "    return {\"text\": graph, \"reward\": reward}\n",
    "\n",
    "def generate_initial_dataset(num_samples):\n",
    "    \"\"\"\n",
    "    Generate initial dataset by running greedy search from empty graphs.\n",
    "    \n",
    "    Args:\n",
    "        num_samples: Number of samples to generate\n",
    "    \n",
    "    Returns:\n",
    "        HuggingFace Dataset containing the generated graphs\n",
    "    \"\"\"\n",
    "    dataset_path = os.path.join(data_path, f\"dataset_N{N}_samples{num_samples}\")\n",
    "    if os.path.exists(dataset_path):\n",
    "        print(f\"Loading dataset from {dataset_path}...\")\n",
    "        dataset = Dataset.load_from_disk(dataset_path)\n",
    "    else:\n",
    "        print(f\"Generating initial dataset with {num_samples} samples...\")\n",
    "        \n",
    "        # Generate samples using multiprocessing\n",
    "        with Pool() as pool:\n",
    "            samples = list(tqdm(pool.imap_unordered(_generate_sample, range(num_samples)), total=num_samples))\n",
    "        \n",
    "        dataset = Dataset.from_list(samples)\n",
    "        dataset.save_to_disk(dataset_path)\n",
    "    return dataset\n",
    "\n",
    "# Following the paper we will start with 40k samples\n",
    "\n",
    "X_0 = generate_initial_dataset(num_samples=40_000)"
   ]
  },
  {
   "cell_type": "markdown",
   "metadata": {},
   "source": [
    "# Step 1: take examples with top rewards"
   ]
  },
  {
   "cell_type": "code",
   "execution_count": 16,
   "metadata": {},
   "outputs": [],
   "source": [
    "# Now let's sort the dataset by rewards and take the top 25% of the samples to obtain X_0^{top}\n",
    "\n",
    "X_0 = X_0.sort(\"reward\", reverse=True)\n",
    "X_0_top = X_0.select(range(len(X_0) // 4))"
   ]
  },
  {
   "cell_type": "code",
   "execution_count": null,
   "metadata": {},
   "outputs": [
    {
     "data": {
      "image/png": "[encoded data removed]",
      "text/plain": [
       "<Figure size 1200x400 with 2 Axes>"
      ]
     },
     "metadata": {},
     "output_type": "display_data"
    }
   ],
   "source": [
    "# Here are the rewards distributions for X_0 and X_0_top (compare with Figure 1 in the paper)\n",
    "\n",
    "fig, (ax1, ax2) = plt.subplots(1, 2, figsize=(12, 4))\n",
    "\n",
    "# Plot histogram for X_0\n",
    "ax1.hist(X_0['reward'], bins=45, edgecolor='black', linewidth=1)\n",
    "ax1.set_title('Rewards Distribution in $X_0$')\n",
    "ax1.set_xlabel('Reward')\n",
    "ax1.set_ylabel('Count')\n",
    "\n",
    "# Plot histogram for X_0_top\n",
    "ax2.hist(X_0_top['reward'], bins=45, edgecolor='black', linewidth=1)\n",
    "ax2.set_title('Rewards Distribution in $X_0^{\\mathrm{top}}$')\n",
    "ax2.set_xlabel('Reward')\n",
    "ax2.set_ylabel('Count')\n",
    "\n",
    "plt.tight_layout()\n",
    "plt.show()"
   ]
  },
  {
   "cell_type": "code",
   "execution_count": null,
   "metadata": {},
   "outputs": [
    {
     "name": "stdout",
     "output_type": "stream",
     "text": [
      "Training new tokenizer...\n",
      "\n",
      "\n",
      "\n"
     ]
    }
   ],
   "source": [
    "# Authors suggest to train a BPE tokenizer with a vocabulary of 100 tokens to reduce the lengths of the sequences.\n",
    "\n",
    "def initialize_tokenizer():\n",
    "    \"\"\"\n",
    "    Initialize and train a BPE tokenizer with vocabulary size of 100.\n",
    "\n",
    "    Returns:\n",
    "        A trained tokenizer object\n",
    "    \"\"\"\n",
    "    tokenizer_path = os.path.join(data_path, f\"tokenizer_N{N}\")\n",
    "\n",
    "    if os.path.exists(tokenizer_path):\n",
    "        print(f\"Loading tokenizer from {tokenizer_path}...\")\n",
    "        tokenizer = PreTrainedTokenizerFast.from_pretrained(tokenizer_path)\n",
    "    else:\n",
    "        print(\"Training new tokenizer...\")\n",
    "        raw_tokenizer = Tokenizer(BPE())\n",
    "        raw_tokenizer.pre_tokenizer = Whitespace()\n",
    "        \n",
    "        # Following the repository: train on the first 5000 samples\n",
    "        trainer = BpeTrainer(vocab_size=100)\n",
    "        raw_tokenizer.train_from_iterator(X_0_top['text'][:5000], trainer=trainer)\n",
    "        \n",
    "        tokenizer = PreTrainedTokenizerFast(\n",
    "            tokenizer_object=raw_tokenizer,\n",
    "            bos_token=\"<s>\",\n",
    "            eos_token=\"</s>\",\n",
    "            pad_token=\"<pad>\"\n",
    "        )\n",
    "        \n",
    "        tokenizer.save_pretrained(tokenizer_path)\n",
    "\n",
    "    return tokenizer\n",
    "\n",
    "tokenizer = initialize_tokenizer()"
   ]
  },
  {
   "cell_type": "markdown",
   "metadata": {},
   "source": [
    "Remark. Somehow the progress bar of the tokenizer training process is not rendering in Jupyter notebooks. Script version should not have this limitation. "
   ]
  },
  {
   "cell_type": "code",
   "execution_count": 23,
   "metadata": {},
   "outputs": [
    {
     "data": {
      "application/vnd.jupyter.widget-view+json": {
       "model_id": "9458144513d940bf966dc3f01696b927",
       "version_major": 2,
       "version_minor": 0
      },
      "text/plain": [
       "Map:   0%|          | 0/10000 [00:00<?, ? examples/s]"
      ]
     },
     "metadata": {},
     "output_type": "display_data"
    }
   ],
   "source": [
    "# Before the training we need to tokenize the data.\n",
    "\n",
    "def tokenize_function(examples):\n",
    "    return tokenizer(examples[\"text\"], \n",
    "                        padding=True, \n",
    "                        truncation=True,\n",
    "                        max_length=50) # Our estimate for a new maximal length of the tokenized sequence\n",
    "\n",
    "# Create HF Dataset for the current generation\n",
    "X_0_top_text = X_0_top.remove_columns([\"reward\"])\n",
    "\n",
    "# Tokenize the dataset\n",
    "X_0_top_tokenized = X_0_top_text.map(\n",
    "    tokenize_function,\n",
    "    batched=True,\n",
    "    remove_columns=[\"text\"]\n",
    ")"
   ]
  },
  {
   "cell_type": "code",
   "execution_count": null,
   "metadata": {},
   "outputs": [
    {
     "name": "stdout",
     "output_type": "stream",
     "text": [
      "New maximum sequence length: 40\n",
      "Original maximum sequence length: 190\n"
     ]
    }
   ],
   "source": [
    "# Let's check that our maximal length estimate (50) is reasonable.\n",
    "\n",
    "max_len = 0\n",
    "for seq in X_0_top_tokenized['input_ids']:\n",
    "    try:\n",
    "        length = seq.index(tokenizer.pad_token_id)\n",
    "    except ValueError:\n",
    "        length = len(seq)\n",
    "    max_len = max(max_len, length)\n",
    "\n",
    "print(f\"New maximum sequence length: {max_len}\")\n",
    "print(f\"Original maximum sequence length: {N * (N - 1) // 2}\")\n"
   ]
  },
  {
   "cell_type": "markdown",
   "metadata": {},
   "source": [
    "# Step 2: training the model $M$"
   ]
  },
  {
   "cell_type": "code",
   "execution_count": null,
   "metadata": {},
   "outputs": [],
   "source": [
    "# FIrst of all, split into train/eval sets\n",
    "\n",
    "split_datasets = X_0_top_tokenized.train_test_split(test_size=0.1)"
   ]
  },
  {
   "cell_type": "code",
   "execution_count": null,
   "metadata": {},
   "outputs": [
    {
     "name": "stderr",
     "output_type": "stream",
     "text": [
      "max_steps is given, it will override any value given in num_train_epochs\n"
     ]
    },
    {
     "name": "stdout",
     "output_type": "stream",
     "text": [
      "Initializing new model...\n"
     ]
    }
   ],
   "source": [
    "# Here is our training config. All the hyperparameters are taken from the paper. In particular, we use a very small transformer and train it with a constant learning rate for 15000 steps\n",
    "\n",
    "\n",
    "config = GPT2Config(\n",
    "    vocab_size=len(tokenizer),\n",
    "    n_positions=50, # same as maximal sequence length in the tokenizer\n",
    "    n_embd=16,\n",
    "    n_layer=2,\n",
    "    n_head=4,\n",
    "    bos_token_id=tokenizer.bos_token_id,\n",
    "    eos_token_id=tokenizer.eos_token_id,\n",
    ")\n",
    "\n",
    "\n",
    "os.path.join(data_path, f\"tokenizer_N{N}\")\n",
    "# Initialize model\n",
    "model_path = os.path.join(data_path, f\"model_0\")\n",
    "if os.path.exists(model_path):\n",
    "    print(f\"Loading model from {model_path}...\")\n",
    "    model = GPT2LMHeadModel.from_pretrained(model_path)\n",
    "else:\n",
    "    print(\"Initializing new model...\")\n",
    "    model = GPT2LMHeadModel(config)\n",
    "model.to(device)\n",
    "\n",
    "\n",
    "training_args = TrainingArguments(\n",
    "    output_dir=os.path.join(data_path, f\"generation_0\"), # necessary argument, but not used in fact\n",
    "    overwrite_output_dir=True,\n",
    "    max_steps=15_000,\n",
    "    per_device_train_batch_size=32,\n",
    "    per_device_eval_batch_size=32,\n",
    "    learning_rate=5e-4,\n",
    "    lr_scheduler_type=\"constant\",\n",
    "    eval_strategy=\"steps\",\n",
    "    save_strategy=\"no\",\n",
    "    eval_steps=500,\n",
    "    logging_dir=os.path.join(data_path, f\"logs/generation_0\"),\n",
    "    logging_steps=1000, # set to higher value to reduce the output in the training cell\n",
    "    report_to=\"none\" # optionally you can report to tensorboard, wandb etc to get nice visualizations of the training process\n",
    ")\n",
    "\n",
    "\n",
    "data_collator = DataCollatorForLanguageModeling(\n",
    "    tokenizer=tokenizer, \n",
    "    mlm=False\n",
    ")\n",
    "\n",
    "\n",
    "trainer = Trainer(\n",
    "    model=model,\n",
    "    args=training_args,\n",
    "    train_dataset=split_datasets[\"train\"],\n",
    "    eval_dataset=split_datasets[\"test\"],\n",
    "    data_collator=data_collator,\n",
    ")"
   ]
  },
  {
   "cell_type": "code",
   "execution_count": 29,
   "metadata": {},
   "outputs": [
    {
     "data": {
      "text/html": [
       "\n",
       "    <div>\n",
       "      \n",
       "      <progress value='15000' max='15000' style='width:300px; height:20px; vertical-align: middle;'></progress>\n",
       "      [15000/15000 03:22, Epoch 53/54]\n",
       "    </div>\n",
       "    <table border=\"1\" class=\"dataframe\">\n",
       "  <thead>\n",
       " <tr style=\"text-align: left;\">\n",
       "      <th>Step</th>\n",
       "      <th>Training Loss</th>\n",
       "      <th>Validation Loss</th>\n",
       "    </tr>\n",
       "  </thead>\n",
       "  <tbody>\n",
       "    <tr>\n",
       "      <td>500</td>\n",
       "      <td>4.116300</td>\n",
       "      <td>4.087862</td>\n",
       "    </tr>\n",
       "    <tr>\n",
       "      <td>1000</td>\n",
       "      <td>4.031800</td>\n",
       "      <td>4.007880</td>\n",
       "    </tr>\n",
       "    <tr>\n",
       "      <td>1500</td>\n",
       "      <td>3.997700</td>\n",
       "      <td>3.974032</td>\n",
       "    </tr>\n",
       "    <tr>\n",
       "      <td>2000</td>\n",
       "      <td>3.979600</td>\n",
       "      <td>3.952378</td>\n",
       "    </tr>\n",
       "    <tr>\n",
       "      <td>2500</td>\n",
       "      <td>3.962500</td>\n",
       "      <td>3.939762</td>\n",
       "    </tr>\n",
       "    <tr>\n",
       "      <td>3000</td>\n",
       "      <td>3.956800</td>\n",
       "      <td>3.929595</td>\n",
       "    </tr>\n",
       "    <tr>\n",
       "      <td>3500</td>\n",
       "      <td>3.946300</td>\n",
       "      <td>3.920021</td>\n",
       "    </tr>\n",
       "    <tr>\n",
       "      <td>4000</td>\n",
       "      <td>3.940600</td>\n",
       "      <td>3.911060</td>\n",
       "    </tr>\n",
       "    <tr>\n",
       "      <td>4500</td>\n",
       "      <td>3.938100</td>\n",
       "      <td>3.904956</td>\n",
       "    </tr>\n",
       "    <tr>\n",
       "      <td>5000</td>\n",
       "      <td>3.927700</td>\n",
       "      <td>3.900764</td>\n",
       "    </tr>\n",
       "    <tr>\n",
       "      <td>5500</td>\n",
       "      <td>3.928500</td>\n",
       "      <td>3.897676</td>\n",
       "    </tr>\n",
       "    <tr>\n",
       "      <td>6000</td>\n",
       "      <td>3.919000</td>\n",
       "      <td>3.891524</td>\n",
       "    </tr>\n",
       "    <tr>\n",
       "      <td>6500</td>\n",
       "      <td>3.919800</td>\n",
       "      <td>3.888897</td>\n",
       "    </tr>\n",
       "    <tr>\n",
       "      <td>7000</td>\n",
       "      <td>3.921100</td>\n",
       "      <td>3.884909</td>\n",
       "    </tr>\n",
       "    <tr>\n",
       "      <td>7500</td>\n",
       "      <td>3.908900</td>\n",
       "      <td>3.887506</td>\n",
       "    </tr>\n",
       "    <tr>\n",
       "      <td>8000</td>\n",
       "      <td>3.904100</td>\n",
       "      <td>3.878710</td>\n",
       "    </tr>\n",
       "    <tr>\n",
       "      <td>8500</td>\n",
       "      <td>3.913100</td>\n",
       "      <td>3.873998</td>\n",
       "    </tr>\n",
       "    <tr>\n",
       "      <td>9000</td>\n",
       "      <td>3.902600</td>\n",
       "      <td>3.870332</td>\n",
       "    </tr>\n",
       "    <tr>\n",
       "      <td>9500</td>\n",
       "      <td>3.899800</td>\n",
       "      <td>3.869882</td>\n",
       "    </tr>\n",
       "    <tr>\n",
       "      <td>10000</td>\n",
       "      <td>3.901700</td>\n",
       "      <td>3.866242</td>\n",
       "    </tr>\n",
       "    <tr>\n",
       "      <td>10500</td>\n",
       "      <td>3.898000</td>\n",
       "      <td>3.868620</td>\n",
       "    </tr>\n",
       "    <tr>\n",
       "      <td>11000</td>\n",
       "      <td>3.901800</td>\n",
       "      <td>3.863021</td>\n",
       "    </tr>\n",
       "    <tr>\n",
       "      <td>11500</td>\n",
       "      <td>3.897000</td>\n",
       "      <td>3.861696</td>\n",
       "    </tr>\n",
       "    <tr>\n",
       "      <td>12000</td>\n",
       "      <td>3.893200</td>\n",
       "      <td>3.858212</td>\n",
       "    </tr>\n",
       "    <tr>\n",
       "      <td>12500</td>\n",
       "      <td>3.889000</td>\n",
       "      <td>3.856967</td>\n",
       "    </tr>\n",
       "    <tr>\n",
       "      <td>13000</td>\n",
       "      <td>3.891200</td>\n",
       "      <td>3.856133</td>\n",
       "    </tr>\n",
       "    <tr>\n",
       "      <td>13500</td>\n",
       "      <td>3.890200</td>\n",
       "      <td>3.855063</td>\n",
       "    </tr>\n",
       "    <tr>\n",
       "      <td>14000</td>\n",
       "      <td>3.889700</td>\n",
       "      <td>3.853774</td>\n",
       "    </tr>\n",
       "    <tr>\n",
       "      <td>14500</td>\n",
       "      <td>3.893200</td>\n",
       "      <td>3.852118</td>\n",
       "    </tr>\n",
       "    <tr>\n",
       "      <td>15000</td>\n",
       "      <td>3.886000</td>\n",
       "      <td>3.852543</td>\n",
       "    </tr>\n",
       "  </tbody>\n",
       "</table><p>"
      ],
      "text/plain": [
       "<IPython.core.display.HTML object>"
      ]
     },
     "metadata": {},
     "output_type": "display_data"
    },
    {
     "data": {
      "text/plain": [
       "TrainOutput(global_step=15000, training_loss=3.9344126749674477, metrics={'train_runtime': 203.027, 'train_samples_per_second': 2364.218, 'train_steps_per_second': 73.882, 'total_flos': 756148491264.0, 'train_loss': 3.9344126749674477, 'epoch': 53.191489361702125})"
      ]
     },
     "execution_count": 29,
     "metadata": {},
     "output_type": "execute_result"
    }
   ],
   "source": [
    "# Run the training\n",
    "trainer.train()"
   ]
  },
  {
   "cell_type": "markdown",
   "metadata": {},
   "source": [
    "Remark. By the training log you can see that the training does not go very well: starting from around 7500th iteration the loss barely decreases. We can experiment with non-constant learning schedulers (which are standard for LLMs) to try to mitigate this."
   ]
  },
  {
   "cell_type": "code",
   "execution_count": 30,
   "metadata": {},
   "outputs": [],
   "source": [
    "# After the training we will save the model to fine-tune it later on the next generation\n",
    "\n",
    "trainer.save_model(model_path)"
   ]
  },
  {
   "cell_type": "markdown",
   "metadata": {},
   "source": [
    "# Step 3: generating $X_1$"
   ]
  },
  {
   "cell_type": "code",
   "execution_count": 33,
   "metadata": {},
   "outputs": [
    {
     "data": {
      "application/vnd.jupyter.widget-view+json": {
       "model_id": "8f413887be1a4c018c43de141f3a034a",
       "version_major": 2,
       "version_minor": 0
      },
      "text/plain": [
       "  0%|          | 0/40000 [00:00<?, ?it/s]"
      ]
     },
     "metadata": {},
     "output_type": "display_data"
    }
   ],
   "source": [
    "# Instead of manually decoding tokenized sequences, we will just use the HF's pipeline\n",
    "generator = pipeline(\n",
    "    \"text-generation\",\n",
    "    model=model,\n",
    "    tokenizer=tokenizer,\n",
    "    device=device\n",
    ")\n",
    "\n",
    "new_samples = []\n",
    "\n",
    "# We will generate X_1 in batches to manage the GPU memory. We want to generate 40k samples as before.\n",
    "pbar = tqdm(total=40_000)\n",
    "while len(new_samples) < 40_000:\n",
    "\n",
    "    outputs = generator(\n",
    "        [tokenizer.bos_token],\n",
    "        max_length=50,\n",
    "        do_sample=True,\n",
    "        temperature=1.0,\n",
    "        num_return_sequences=10_000, # choose the generation batch size which will fit into your GPU memory\n",
    "        pad_token_id=tokenizer.eos_token_id,\n",
    "        truncation=True\n",
    "    )\n",
    "\n",
    "    for output in outputs[0]:\n",
    "        text = output['generated_text']\n",
    "        # sometimes tokenizer create whitespaces during decoding, we remove them\n",
    "        text = text.replace(tokenizer.bos_token, \"\").replace(\" \", \"\")\n",
    "        # some of the generated sequences can not be interpreted as adjacency matrices because of their length. We skip the shorter ones and trim the longer ones\n",
    "        if len(text) >= N * (N - 1) // 2:\n",
    "            new_samples.append(text[: N * (N - 1) // 2])\n",
    "            pbar.update(1)\n",
    "            if len(new_samples) >= 40_000:\n",
    "                break\n",
    "\n",
    "    torch.cuda.empty_cache()\n",
    "\n",
    "\n",
    "# In case you collected a few extra samples, trim the list to exactly 40000.\n",
    "new_samples = new_samples[:40_000]"
   ]
  },
  {
   "cell_type": "code",
   "execution_count": 35,
   "metadata": {},
   "outputs": [
    {
     "data": {
      "application/vnd.jupyter.widget-view+json": {
       "model_id": "d1c5e948192a45d3a029b8f2d02d71e9",
       "version_major": 2,
       "version_minor": 0
      },
      "text/plain": [
       "  0%|          | 0/40000 [00:00<?, ?it/s]"
      ]
     },
     "metadata": {},
     "output_type": "display_data"
    },
    {
     "data": {
      "application/vnd.jupyter.widget-view+json": {
       "model_id": "cd1591842fb94bf08f31ec1af9a498a2",
       "version_major": 2,
       "version_minor": 0
      },
      "text/plain": [
       "  0%|          | 0/40000 [00:00<?, ?it/s]"
      ]
     },
     "metadata": {},
     "output_type": "display_data"
    }
   ],
   "source": [
    "# Let's apply the local search to the new samples, calculate the rewards and check if distribution improved\n",
    "\n",
    "tasks1 = [(s, N) for s in new_samples]\n",
    "\n",
    "def process_search(args):\n",
    "    return A(*args)\n",
    "\n",
    "with Pool() as pool:\n",
    "    X_1 = list(tqdm(pool.imap_unordered(process_search, tasks1),\n",
    "                            total=len(tasks1)))\n",
    "\n",
    "tasks2 = [(s, N) for s in X_1]\n",
    "\n",
    "def process_reward(args):\n",
    "    return r(*args)\n",
    "\n",
    "with Pool() as pool:\n",
    "    X_1_rewards= list(tqdm(pool.imap_unordered(process_reward, tasks2),\n",
    "                                total=len(tasks2)))\n",
    "\n"
   ]
  },
  {
   "cell_type": "code",
   "execution_count": null,
   "metadata": {},
   "outputs": [
    {
     "data": {
      "image/png": "[encoded data removed]",
      "text/plain": [
       "<Figure size 800x400 with 1 Axes>"
      ]
     },
     "metadata": {},
     "output_type": "display_data"
    }
   ],
   "source": [
    "# Compare with Figure 2 in the paper\n",
    "\n",
    "plt.figure(figsize=(8, 4))\n",
    "plt.hist(X_1_rewards, bins=45, edgecolor='black', linewidth=1)\n",
    "plt.title('Rewards Distribution in $X_1$')\n",
    "plt.xlabel('Reward')\n",
    "plt.ylabel('Count')\n",
    "plt.tight_layout()\n",
    "plt.show()"
   ]
  }
 ],
 "metadata": {
  "kernelspec": {
   "display_name": "myenv",
   "language": "python",
   "name": "python3"
  },
  "language_info": {
   "codemirror_mode": {
    "name": "ipython",
    "version": 3
   },
   "file_extension": ".py",
   "mimetype": "text/x-python",
   "name": "python",
   "nbconvert_exporter": "python",
   "pygments_lexer": "ipython3",
   "version": "3.10.15"
  }
 },
 "nbformat": 4,
 "nbformat_minor": 2
}
